{
 "cells": [
  {
   "cell_type": "code",
   "execution_count": 2,
   "metadata": {},
   "outputs": [
    {
     "name": "stdout",
     "output_type": "stream",
     "text": [
      "enter coma seperated sequence of numbers:1,2,3,4,5\n",
      "result is: ['1', '2', '3', '4', '5']\n"
     ]
    }
   ],
   "source": [
    "#coma seperate numbers to list \n",
    "str=input(\"enter coma seperated sequence of numbers:\")\n",
    "x=str.split(\",\")\n",
    "print(\"result is:\",x)"
   ]
  },
  {
   "cell_type": "code",
   "execution_count": 3,
   "metadata": {},
   "outputs": [
    {
     "name": "stdout",
     "output_type": "stream",
     "text": [
      "enter some coma seperated list of color:red,blue,green.violet,orange\n",
      "the first element is: red\n",
      "the last elements is: orange\n"
     ]
    }
   ],
   "source": [
    "#coma seperated colors to string\n",
    "clr=input(\"enter some coma seperated list of color:\")\n",
    "res=clr.split(\",\")\n",
    "print(\"the first element is:\",res[0])\n",
    "print(\"the last elements is:\",res[-1])"
   ]
  },
  {
   "cell_type": "code",
   "execution_count": 1,
   "metadata": {},
   "outputs": [
    {
     "name": "stdout",
     "output_type": "stream",
     "text": [
      "enter a file with extension:area.py\n",
      "the extension of entered file: py\n"
     ]
    }
   ],
   "source": [
    "#to print extentin of a file \n",
    "f=input(\"enter a file with extension:\")\n",
    "x=f.split(\".\")\n",
    "print(\"the extension of entered file:\",x[-1])"
   ]
  },
  {
   "cell_type": "code",
   "execution_count": null,
   "metadata": {
    "collapsed": true
   },
   "outputs": [],
   "source": []
  }
 ],
 "metadata": {
  "kernelspec": {
   "display_name": "Python 3",
   "language": "python",
   "name": "python3"
  },
  "language_info": {
   "codemirror_mode": {
    "name": "ipython",
    "version": 3
   },
   "file_extension": ".py",
   "mimetype": "text/x-python",
   "name": "python",
   "nbconvert_exporter": "python",
   "pygments_lexer": "ipython3",
   "version": "3.6.3"
  }
 },
 "nbformat": 4,
 "nbformat_minor": 2
}
