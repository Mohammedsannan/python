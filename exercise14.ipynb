{
 "cells": [
  {
   "cell_type": "code",
   "execution_count": 5,
   "metadata": {},
   "outputs": [
    {
     "name": "stdout",
     "output_type": "stream",
     "text": [
      "12.4.22\n",
      "\n",
      "12.03.2022\n"
     ]
    }
   ],
   "source": [
    "#retrieve all lines with a date in the form of one or two digits,a dot,one or two digits,a dot,two digits\n",
    "import re\n",
    "#open a file\n",
    "file=open(\"test.txt\",\"r\")\n",
    "text=file.readlines()\n",
    "file.close()\n",
    "keyword=re.compile('\\\\d\\d?\\.\\d\\d?\\.\\d\\d')\n",
    "for line in text:\n",
    "    if keyword.search(line):\n",
    "        print(line)"
   ]
  },
  {
   "cell_type": "code",
   "execution_count": null,
   "metadata": {
    "collapsed": true
   },
   "outputs": [],
   "source": []
  },
  {
   "cell_type": "code",
   "execution_count": null,
   "metadata": {
    "collapsed": true
   },
   "outputs": [],
   "source": []
  }
 ],
 "metadata": {
  "kernelspec": {
   "display_name": "Python 3",
   "language": "python",
   "name": "python3"
  },
  "language_info": {
   "codemirror_mode": {
    "name": "ipython",
    "version": 3
   },
   "file_extension": ".py",
   "mimetype": "text/x-python",
   "name": "python",
   "nbconvert_exporter": "python",
   "pygments_lexer": "ipython3",
   "version": "3.6.3"
  }
 },
 "nbformat": 4,
 "nbformat_minor": 2
}
