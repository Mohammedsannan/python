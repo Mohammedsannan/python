{
 "cells": [
  {
   "cell_type": "code",
   "execution_count": 4,
   "metadata": {},
   "outputs": [
    {
     "name": "stdout",
     "output_type": "stream",
     "text": [
      "enter the source file to be copied:myfile.txt\n",
      "enter the destination file name:sanan.txt\n",
      "file copied\n"
     ]
    }
   ],
   "source": [
    "#programe to copy a text file to another file.\n",
    "file1=input(\"enter the source file to be copied:\")\n",
    "file2=input(\"enter the destination file name:\")\n",
    "fr=open(file1,\"r\")\n",
    "fw=open(file2,\"w\")\n",
    "for line in fr.readlines():\n",
    "    fw.write(line)\n",
    "fr.close()\n",
    "fw.close()\n",
    "print(\"file copied\")"
   ]
  },
  {
   "cell_type": "code",
   "execution_count": 3,
   "metadata": {},
   "outputs": [
    {
     "name": "stdout",
     "output_type": "stream",
     "text": [
      "enter the source file to be copied:myfile.txt\n",
      "enter the destination file name:sanan.txt\n",
      "file appended\n"
     ]
    }
   ],
   "source": [
    "#python program to append file with contents of another file\n",
    "file1=input(\"enter the source file to be copied:\")\n",
    "file2=input(\"enter the destination file name:\")\n",
    "fr=open(file1,\"r\")\n",
    "fw=open(file2,\"a\")\n",
    "for line in fr.readlines():\n",
    "    fw.write(line)\n",
    "fr.close()\n",
    "fw.close()\n",
    "print(\"file appended\")"
   ]
  },
  {
   "cell_type": "code",
   "execution_count": 4,
   "metadata": {},
   "outputs": [
    {
     "name": "stdout",
     "output_type": "stream",
     "text": [
      "enter the file:sanan.txt\n",
      "5\n"
     ]
    }
   ],
   "source": [
    "#pythons program to append file with contents of another file\n",
    "file=input(\"enter the file:\")\n",
    "fr=open(file,\"r\")\n",
    "count=0\n",
    "for i in fr.readlines():\n",
    "    count=count+1\n",
    "    \n",
    "fr.close()\n",
    "print(count)"
   ]
  },
  {
   "cell_type": "code",
   "execution_count": 5,
   "metadata": {},
   "outputs": [
    {
     "name": "stdout",
     "output_type": "stream",
     "text": [
      "enter the source file to be copied:sanan.txt\n",
      "enter the destination file name:odd.txt\n",
      "odd lines copied:\n"
     ]
    }
   ],
   "source": [
    "#python program to copr odd lines\n",
    "file1=input(\"enter the source file to be copied:\")\n",
    "file2=input(\"enter the destination file name:\")\n",
    "fr=open(file,\"r\")\n",
    "fw=open(file2,\"w\")\n",
    "i=0\n",
    "for l in fr.readlines():\n",
    "    i+=1\n",
    "    if 1%2==0:\n",
    "        continue\n",
    "    fw.write(l)\n",
    "fr.close()\n",
    "fw.close()\n",
    "print(\"odd lines copied:\")"
   ]
  },
  {
   "cell_type": "code",
   "execution_count": null,
   "metadata": {
    "collapsed": true
   },
   "outputs": [],
   "source": []
  }
 ],
 "metadata": {
  "kernelspec": {
   "display_name": "Python 3",
   "language": "python",
   "name": "python3"
  },
  "language_info": {
   "codemirror_mode": {
    "name": "ipython",
    "version": 3
   },
   "file_extension": ".py",
   "mimetype": "text/x-python",
   "name": "python",
   "nbconvert_exporter": "python",
   "pygments_lexer": "ipython3",
   "version": "3.6.3"
  }
 },
 "nbformat": 4,
 "nbformat_minor": 2
}
