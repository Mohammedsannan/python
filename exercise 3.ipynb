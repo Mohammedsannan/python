{
 "cells": [
  {
   "cell_type": "code",
   "execution_count": 2,
   "metadata": {},
   "outputs": [
    {
     "name": "stdout",
     "output_type": "stream",
     "text": [
      "enter temperature in celsius :66\n",
      "temperature in fahrenheat : 150.8\n"
     ]
    }
   ],
   "source": [
    "#convert temperature into fahrenheat\n",
    "n=int(input(\"enter temperature in celsius :\"))\n",
    "f=((n*9/5)+32)\n",
    "print(\"temperature in fahrenheat :\",f)"
   ]
  },
  {
   "cell_type": "code",
   "execution_count": 4,
   "metadata": {},
   "outputs": [
    {
     "name": "stdout",
     "output_type": "stream",
     "text": [
      "enter the distance in kilometer :10\n",
      "distance in miles :6.21371\n"
     ]
    }
   ],
   "source": [
    "#convert kilometer into miles\n",
    "kilometer=int(input(\"enter the distance in kilometer :\"))\n",
    "miles=kilometer*0.621371\n",
    "print(\"distance in miles :\"+str(miles))"
   ]
  },
  {
   "cell_type": "code",
   "execution_count": 6,
   "metadata": {},
   "outputs": [
    {
     "name": "stdout",
     "output_type": "stream",
     "text": [
      "enter first number:10\n",
      "enter second number:5\n",
      "enter the third no:15\n",
      "largest number is :15\n"
     ]
    }
   ],
   "source": [
    "#to find the largest number\n",
    "a=int(input(\"enter first number:\"))\n",
    "b=int(input(\"enter second number:\"))\n",
    "c=int(input(\"enter the third no:\"))\n",
    "print(\"largest number is :\"+str(max(a,b,c)))"
   ]
  },
  {
   "cell_type": "code",
   "execution_count": null,
   "metadata": {
    "collapsed": true
   },
   "outputs": [],
   "source": []
  }
 ],
 "metadata": {
  "kernelspec": {
   "display_name": "Python 3",
   "language": "python",
   "name": "python3"
  },
  "language_info": {
   "codemirror_mode": {
    "name": "ipython",
    "version": 3
   },
   "file_extension": ".py",
   "mimetype": "text/x-python",
   "name": "python",
   "nbconvert_exporter": "python",
   "pygments_lexer": "ipython3",
   "version": "3.6.3"
  }
 },
 "nbformat": 4,
 "nbformat_minor": 2
}
