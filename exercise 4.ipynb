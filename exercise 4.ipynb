{
 "cells": [
  {
   "cell_type": "code",
   "execution_count": 2,
   "metadata": {},
   "outputs": [
    {
     "name": "stdout",
     "output_type": "stream",
     "text": [
      "enter the string :world\n",
      "swapped string is : dorlw\n"
     ]
    }
   ],
   "source": [
    "#swap first and lastof a string\n",
    "str=input(\"enter the string :\")\n",
    "l=len(str)\n",
    "n=str[l-1]+str[1:l-1]+str[-l]\n",
    "print(\"swapped string is :\",n)"
   ]
  },
  {
   "cell_type": "code",
   "execution_count": 3,
   "metadata": {},
   "outputs": [
    {
     "name": "stdout",
     "output_type": "stream",
     "text": [
      "enter the string :galaxy\n",
      "new string : gaxy\n"
     ]
    }
   ],
   "source": [
    "#to get a new string with first and last two letters of the old string\n",
    "str=input(\"enter the string :\")\n",
    "l=len(str)\n",
    "n=str[-l:2]+str[l-2:l]\n",
    "print(\"new string :\",n)"
   ]
  },
  {
   "cell_type": "code",
   "execution_count": 5,
   "metadata": {},
   "outputs": [
    {
     "name": "stdout",
     "output_type": "stream",
     "text": [
      "enter the string:sanans\n",
      "the result is: sanan$\n"
     ]
    }
   ],
   "source": [
    "#python programe to change specified character except first\n",
    "str=input(\"enter the string:\")\n",
    "n=str.replace(str[0],\"$\")\n",
    "str1=str[0]+n[1:(len(n))]\n",
    "print(\"the result is:\",str1)\n"
   ]
  },
  {
   "cell_type": "code",
   "execution_count": 1,
   "metadata": {},
   "outputs": [
    {
     "name": "stdout",
     "output_type": "stream",
     "text": [
      "enter the first string is:hello\n",
      "enter the second string is :world\n",
      "new string is : wollo herld\n"
     ]
    }
   ],
   "source": [
    "#to get a single string from  to given strings ,seperated by a space and swap first two characters of each string\n",
    "str=input(\"enter the first string is:\")\n",
    "str1=input(\"enter the second string is :\")\n",
    "l=len(str)\n",
    "n=len(str1)\n",
    "m=str1[0:2]+str[2:]+\" \"+str[0:2]+str1[2:]\n",
    "print(\"new string is :\",m)"
   ]
  },
  {
   "cell_type": "code",
   "execution_count": null,
   "metadata": {
    "collapsed": true
   },
   "outputs": [],
   "source": []
  }
 ],
 "metadata": {
  "kernelspec": {
   "display_name": "Python 3",
   "language": "python",
   "name": "python3"
  },
  "language_info": {
   "codemirror_mode": {
    "name": "ipython",
    "version": 3
   },
   "file_extension": ".py",
   "mimetype": "text/x-python",
   "name": "python",
   "nbconvert_exporter": "python",
   "pygments_lexer": "ipython3",
   "version": "3.6.3"
  }
 },
 "nbformat": 4,
 "nbformat_minor": 2
}
