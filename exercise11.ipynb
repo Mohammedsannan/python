{
 "cells": [
  {
   "cell_type": "code",
   "execution_count": 4,
   "metadata": {},
   "outputs": [
    {
     "name": "stdout",
     "output_type": "stream",
     "text": [
      "enter the source file to be copied:myfile.txt\n",
      "enter the destination file name:sanan.txt\n",
      "file copied\n"
     ]
    }
   ],
   "source": [
    "#programe to copy a text file to another file.\n",
    "file1=input(\"enter the source file to be copied:\")\n",
    "file2=input(\"enter the destination file name:\")\n",
    "fr=open(file1,\"r\")\n",
    "fw=open(file2,\"w\")\n",
    "for line in fr.readlines():\n",
    "    fw.write(line)\n",
    "fr.close()\n",
    "fw.close()\n",
    "print(\"file copied\")"
   ]
  },
  {
   "cell_type": "code",
   "execution_count": 3,
   "metadata": {},
   "outputs": [
    {
     "name": "stdout",
     "output_type": "stream",
     "text": [
      "enter the source file to be copied:myfile.txt\n",
      "enter the destination file name:sanan.txt\n",
      "file appended\n"
     ]
    }
   ],
   "source": [
    "#python program to append file with contents of another file\n",
    "file1=input(\"enter the source file to be copied:\")\n",
    "file2=input(\"enter the destination file name:\")\n",
    "fr=open(file1,\"r\")\n",
    "fw=open(file2,\"a\")\n",
    "for line in fr.readlines():\n",
    "    fw.write(line)\n",
    "fr.close()\n",
    "fw.close()\n",
    "print(\"file appended\")"
   ]
  },
  {
   "cell_type": "code",
   "execution_count": 4,
   "metadata": {},
   "outputs": [
    {
     "name": "stdout",
     "output_type": "stream",
     "text": [
      "enter the file:sanan.txt\n",
      "5\n"
     ]
    }
   ],
   "source": [
    "#pythons program to append file with contents of another file\n",
    "file=input(\"enter the file:\")\n",
    "fr=open(file,\"r\")\n",
    "count=0\n",
    "for i in fr.readlines():\n",
    "    count=count+1\n",
    "    \n",
    "fr.close()\n",
    "print(count)"
   ]
  },
  {
   "cell_type": "code",
   "execution_count": 3,
   "metadata": {},
   "outputs": [
    {
     "name": "stdout",
     "output_type": "stream",
     "text": [
      "enter the source file to be copied:myfile.txt\n",
      "enter the destination file name:sanan.txt\n",
      "odd lines copied:\n"
     ]
    }
   ],
   "source": [
    "#python program to copr odd lines\n",
    "file1=input(\"enter the source file to be copied:\")\n",
    "file2=input(\"enter the destination file name:\")\n",
    "fr=open(file1,\"r\")\n",
    "fw=open(file2,\"w\")\n",
    "i=0\n",
    "for l in fr.readlines():\n",
    "    i+=1\n",
    "    if 1%2==0:\n",
    "        continue\n",
    "    fw.write(l)\n",
    "fr.close()\n",
    "fw.close()\n",
    "print(\"odd lines copied:\")"
   ]
  },
  {
   "cell_type": "code",
   "execution_count": 2,
   "metadata": {
    "scrolled": false
   },
   "outputs": [
    {
     "name": "stdout",
     "output_type": "stream",
     "text": [
      "enter id:123\n",
      "enter name:sanan\n",
      "enter DOB:18/12/2000\n",
      "enter salary:100000\n",
      "enter id:124\n",
      "enter name:junaid\n",
      "enter DOB:19/11/1997\n",
      "enter salary:99999\n",
      "enter id:125\n",
      "enter name:anand\n",
      "enter DOB:12/11/1999\n",
      "enter salary:99999\n",
      "['empid', 'empname', 'DOB', 'salary']\n",
      "['123', 'sanan', '18/12/2000', '100000']\n",
      "['124', 'junaid', '19/11/1997', '99999']\n",
      "['125', 'anand', '12/11/1999', '99999']\n"
     ]
    }
   ],
   "source": [
    "#python program to write dict to a csv file\n",
    "import csv\n",
    "with open(\"my1.csv\",\"w\")as f:\n",
    "    fnames=['empid','empname','DOB','salary']\n",
    "    writer=csv.DictWriter(f,fieldnames=fnames)\n",
    "    writer.writeheader()\n",
    "    for i in range(3):\n",
    "        writer.writerow({\"empid\":input(\"enter id:\"),\"empname\":input(\"enter name:\"),'DOB':input(\"enter DOB:\"),\"salary\":input(\"enter salary:\"),})\n",
    "        \n",
    "with open(\"my1.csv\",\"r\") as file:\n",
    "    read=csv.reader(file)\n",
    "    for row in read:\n",
    "        print(row)\n",
    "    "
   ]
  },
  {
   "cell_type": "code",
   "execution_count": 3,
   "metadata": {},
   "outputs": [
    {
     "name": "stdout",
     "output_type": "stream",
     "text": [
      "['empid', 'empname', 'DOB', 'salary']\n",
      "['123', 'sanan', '18/12/2000', '100000']\n",
      "['124', 'junaid', '19/11/1997', '99999']\n",
      "['125', 'anand', '12/11/1999', '99999']\n"
     ]
    }
   ],
   "source": [
    "import csv\n",
    "with open(\"my1.csv\",\"r\") as file:\n",
    "    read=csv.reader(file)\n",
    "    for row in read:\n",
    "        print(row)\n",
    "        \n",
    "    "
   ]
  },
  {
   "cell_type": "code",
   "execution_count": 5,
   "metadata": {},
   "outputs": [
    {
     "name": "stdout",
     "output_type": "stream",
     "text": [
      "Enter csv file name : dtp.csv\n",
      "Enter the no.of department : 3\n",
      "------------------------\n",
      "Enter the details of 1th department\n",
      "\n",
      "enter dptid:123\n",
      "enter department name:mca\n",
      "enter no.of employees:5\n",
      "enter Location:kallathode\n",
      "------------------------\n",
      "Enter the details of 2th department\n",
      "\n",
      "enter dptid:124\n",
      "enter department name:mba\n",
      "enter no.of employees:4\n",
      "enter Location:kallathode\n",
      "------------------------\n",
      "Enter the details of 3th department\n",
      "\n",
      "enter dptid:125\n",
      "enter department name:Btech\n",
      "enter no.of employees:9\n",
      "enter Location:kallathode\n",
      "---------------------\n",
      "Department Id and Department Name are given below \n",
      "123 mca\n",
      "124 mba\n",
      "125 Btech\n"
     ]
    }
   ],
   "source": [
    "#python program to write department csv,and print the contents specified columns\n",
    "import csv\n",
    "file=input(\"Enter csv file name : \")\n",
    "with open(file,\"w\",newline=\"\") as f:\n",
    "    fnames=['dptid','dptname','Totalemployees','Location']\n",
    "    writer=csv.DictWriter(f,fieldnames=fnames)\n",
    "    writer.writeheader()\n",
    "    n=int(input(\"Enter the no.of department : \"))\n",
    "    for i in range(n):\n",
    "        print(\"------------------------\")\n",
    "        print(\"Enter the details of \"+str(i+1)+\"th department\\n\")\n",
    "           \n",
    "        writer.writerow({\"dptid\":input(\"enter dptid:\"),\"dptname\":input(\"enter department name:\"),\"Totalemployees\":input(\"enter no.of employees:\"),\"Location\":input(\"enter Location:\")})\n",
    "print(\"---------------------\")        \n",
    "with open(file,\"r\") as f:\n",
    "    reader=csv.DictReader(f)\n",
    "    print(\"Department Id and Department Name are given below \")\n",
    "    for i in reader:\n",
    "        print(i[\"dptid\"],i[\"dptname\"])"
   ]
  },
  {
   "cell_type": "code",
   "execution_count": null,
   "metadata": {
    "collapsed": true
   },
   "outputs": [],
   "source": []
  }
 ],
 "metadata": {
  "kernelspec": {
   "display_name": "Python 3",
   "language": "python",
   "name": "python3"
  }
 },
 "nbformat": 4,
 "nbformat_minor": 2
}
