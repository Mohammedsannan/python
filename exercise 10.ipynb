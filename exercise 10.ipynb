{
 "cells": [
  {
   "cell_type": "code",
   "execution_count": null,
   "metadata": {
    "collapsed": true
   },
   "outputs": [],
   "source": [
    "#to find the area and perimeter of circle\n",
    "from rectangle import *\n",
    "from circle import *\n",
    "while(1):\n",
    "    print(\"\\n1.RECTANGLE\\n2.CIRCLE\\n3.EXIT\")\n",
    "    ch=int(input(\"enter any option:\"))\n",
    "    if ch==1:\n",
    "        l=int(input(\"enter the length:\"))\n",
    "        b=int(input(\"enter the breadth:\"))\n",
    "        area=rectarea(l,b)\n",
    "        print(\"area of rectangle:\",area)\n",
    "        perimeter=rectperi(l,b)\n",
    "        print(\"perimeter of rectangle:\",perimeter)\n",
    "    elif ch==2:\n",
    "        r=int(input(\"enter the radius of the circle:\"))\n",
    "        carea=circlearea(r)\n",
    "        print(\"area of a circle:\",carea)\n",
    "        cperimeter=circleperi(r)\n",
    "        print(\"perimeter of a circle:\",cperimeter)\n",
    "    else:\n",
    "        print(\"EXITING...\")\n",
    "        break"
   ]
  },
  {
   "cell_type": "code",
   "execution_count": 1,
   "metadata": {},
   "outputs": [
    {
     "name": "stdout",
     "output_type": "stream",
     "text": [
      "\n",
      "1.RECTANGLE\n",
      "2.CIRCLE\n",
      "3.SPHERE\n",
      "4.CUBOID\n",
      "5.EXIT\n",
      "enter any option:4\n",
      "enter the length:2\n",
      "enter the breadth:3\n",
      "enter the height:4\n",
      "area of cuboid : 52\n",
      "perimeter of cuboid: 36\n",
      "\n",
      "1.RECTANGLE\n",
      "2.CIRCLE\n",
      "3.SPHERE\n",
      "4.CUBOID\n",
      "5.EXIT\n",
      "enter any option:1\n",
      "enter length:4\n",
      "enter breadth:5\n",
      "area of rectangle: 20\n",
      "perimeter of rectangle: 18\n",
      "\n",
      "1.RECTANGLE\n",
      "2.CIRCLE\n",
      "3.SPHERE\n",
      "4.CUBOID\n",
      "5.EXIT\n",
      "enter any option:3\n",
      "enter the radius:6\n",
      "area of the sphere: 452.3893421169302\n",
      "circumference of a sphere: 37.69911184307752\n",
      "\n",
      "1.RECTANGLE\n",
      "2.CIRCLE\n",
      "3.SPHERE\n",
      "4.CUBOID\n",
      "5.EXIT\n",
      "enter any option:2\n",
      "enter the radius of the circle:6\n",
      "area of a circle: 113.09733552923255\n",
      "perimeter of a circle: 37.69911184307752\n",
      "\n",
      "1.RECTANGLE\n",
      "2.CIRCLE\n",
      "3.SPHERE\n",
      "4.CUBOID\n",
      "5.EXIT\n",
      "enter any option:5\n",
      "EXITING...\n"
     ]
    }
   ],
   "source": [
    "#graphic package\n",
    "from graphics.rectangle import *\n",
    "from graphics.circle import *\n",
    "from graphics.graphics3d.cuboid import *\n",
    "from graphics.graphics3d.sphere import *\n",
    "while(1):\n",
    "    print(\"\\n1.RECTANGLE\\n2.CIRCLE\\n3.SPHERE\\n4.CUBOID\\n5.EXIT\")\n",
    "    ch=int(input(\"enter any option:\"))\n",
    "    if ch==1:\n",
    "        l=int(input(\"enter length:\"))\n",
    "        b=int(input(\"enter breadth:\"))\n",
    "        area=rectarea(l,b)\n",
    "        print(\"area of rectangle:\",area)\n",
    "        perimeter=rectperi(l,b)\n",
    "        print(\"perimeter of rectangle:\",perimeter)\n",
    "    elif ch==2:\n",
    "        r=int(input(\"enter the radius of the circle:\"))\n",
    "        carea=circlearea(r)\n",
    "        print(\"area of a circle:\",carea)\n",
    "        cperimeter=circleperi(r)\n",
    "        print(\"perimeter of a circle:\",cperimeter)\n",
    "    elif ch==3:\n",
    "        rad=int(input(\"enter the radius:\"))\n",
    "        area=sparea(rad)\n",
    "        print(\"area of the sphere:\",area)\n",
    "        circum=spcircumference(rad)\n",
    "        print(\"circumference of a sphere:\",circum)\n",
    "    elif ch==4:\n",
    "        l=int(input(\"enter the length:\"))\n",
    "        b=int(input(\"enter the breadth:\"))\n",
    "        h=int(input(\"enter the height:\"))\n",
    "        area=cubarea(l,b,h)\n",
    "        print(\"area of cuboid :\",area)\n",
    "        peri=cubperi(l,b,h)\n",
    "        print(\"perimeter of cuboid:\",peri)\n",
    "    else:\n",
    "        print(\"EXITING...\")\n",
    "        break "
   ]
  },
  {
   "cell_type": "code",
   "execution_count": 2,
   "metadata": {},
   "outputs": [
    {
     "name": "stdout",
     "output_type": "stream",
     "text": [
      "date of yesterday: 2022-01-18\n",
      "date of today 2022-01-19\n",
      "date of tomorrow 2022-01-20\n"
     ]
    }
   ],
   "source": [
    "#python program to find yesterday,today and tomorrow dates\n",
    "from datetime import datetime,timedelta\n",
    "td=datetime.now()\n",
    "yd=td-timedelta(days=1)\n",
    "tm=td+timedelta(days=1)\n",
    "print(\"date of yesterday:\",yd.date())\n",
    "print(\"date of today\",td.date())\n",
    "print(\"date of tomorrow\",tm.date())"
   ]
  },
  {
   "cell_type": "code",
   "execution_count": 4,
   "metadata": {},
   "outputs": [
    {
     "name": "stdout",
     "output_type": "stream",
     "text": [
      "todays date 2022-01-19\n",
      "date before 5 days: 2022-01-14\n"
     ]
    }
   ],
   "source": [
    "#python programe to find date before 5 days\n",
    "from datetime import datetime,timedelta\n",
    "td=datetime.now()\n",
    "print(\"todays date\",td.date())\n",
    "d5=td-timedelta(days=5)\n",
    "print(\"date before 5 days:\",d5.date())\n"
   ]
  },
  {
   "cell_type": "code",
   "execution_count": 5,
   "metadata": {},
   "outputs": [
    {
     "name": "stdout",
     "output_type": "stream",
     "text": [
      "days 1 : 2022-01-19\n",
      "days 2 : 2022-01-20\n",
      "days 3 : 2022-01-21\n",
      "days 4 : 2022-01-22\n",
      "days 5 : 2022-01-23\n"
     ]
    }
   ],
   "source": [
    "#python programe to find date after 5 days\n",
    "from datetime import datetime,timedelta\n",
    "#import datetime\n",
    "td=td=datetime.now()\n",
    "#td=datetime.date.today()\n",
    "for i in range(0,5):\n",
    "    fd=td+timedelta(days=i)\n",
    "    print(\"days\",i+1,\":\",fd.date())"
   ]
  },
  {
   "cell_type": "code",
   "execution_count": 3,
   "metadata": {},
   "outputs": [
    {
     "name": "stdout",
     "output_type": "stream",
     "text": [
      "enter date1(yyyy-mm-dd): 2000-12-12\n",
      "2000-12-12\n",
      "enter date2(yyyy-mm-dd): 1999-12-12\n",
      "1999-12-12\n",
      "the number of days between entered dates:  366\n"
     ]
    }
   ],
   "source": [
    "#days between 2 given dates\n",
    "from datetime import datetime,timedelta\n",
    "\n",
    "strdate1=str(input('enter date1(yyyy-mm-dd): '))\n",
    "\n",
    "ddate1=datetime.strptime(strdate1,\"%Y-%m-%d\")\n",
    "\n",
    "print(ddate1.date())\n",
    "\n",
    "strdate2=str(input('enter date2(yyyy-mm-dd): '))\n",
    "ddate2=datetime.strptime(strdate2,\"%Y-%m-%d\")\n",
    "\n",
    "print(ddate2.date())\n",
    "\n",
    "d3=ddate1-ddate2\n",
    "print(\"the number of days between entered dates: \",d3.days)"
   ]
  },
  {
   "cell_type": "code",
   "execution_count": null,
   "metadata": {
    "collapsed": true
   },
   "outputs": [],
   "source": []
  }
 ],
 "metadata": {
  "kernelspec": {
   "display_name": "Python 3",
   "language": "python",
   "name": "python3"
  },
  "language_info": {
   "codemirror_mode": {
    "name": "ipython",
    "version": 3
   },
   "file_extension": ".py",
   "mimetype": "text/x-python",
   "name": "python",
   "nbconvert_exporter": "python",
   "pygments_lexer": "ipython3",
   "version": "3.6.3"
  }
 },
 "nbformat": 4,
 "nbformat_minor": 2
}
