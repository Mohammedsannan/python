{
 "cells": [
  {
   "cell_type": "code",
   "execution_count": 2,
   "metadata": {},
   "outputs": [
    {
     "name": "stdout",
     "output_type": "stream",
     "text": [
      "\n",
      "1.RECTANGLE\n",
      "2.CIRCLE\n",
      "3.EXIT\n",
      "enter any option:1\n",
      "enter the length:4\n",
      "enter the breadth:5\n",
      "area of rectangle: 20\n",
      "perimeter of rectangle: 18\n",
      "\n",
      "1.RECTANGLE\n",
      "2.CIRCLE\n",
      "3.EXIT\n",
      "enter any option:2\n",
      "enter the radius of the circle:6\n",
      "area of a circle: 113.09733552923255\n",
      "perimeter of a circle: 37.69911184307752\n",
      "\n",
      "1.RECTANGLE\n",
      "2.CIRCLE\n",
      "3.EXIT\n",
      "enter any option:3\n",
      "EXITING...\n"
     ]
    }
   ],
   "source": [
    "#to find the area and perimeter of circle\n",
    "from rectangle import *\n",
    "from circle import *\n",
    "while(1):\n",
    "    print(\"\\n1.RECTANGLE\\n2.CIRCLE\\n3.EXIT\")\n",
    "    ch=int(input(\"enter any option:\"))\n",
    "    if ch==1:\n",
    "        l=int(input(\"enter the length:\"))\n",
    "        b=int(input(\"enter the breadth:\"))\n",
    "        area=rectarea(l,b)\n",
    "        print(\"area of rectangle:\",area)\n",
    "        perimeter=rectperi(l,b)\n",
    "        print(\"perimeter of rectangle:\",perimeter)\n",
    "    elif ch==2:\n",
    "        r=int(input(\"enter the radius of the circle:\"))\n",
    "        carea=circlearea(r)\n",
    "        print(\"area of a circle:\",carea)\n",
    "        cperimeter=circleperi(r)\n",
    "        print(\"perimeter of a circle:\",cperimeter)\n",
    "    else:\n",
    "        print(\"EXITING...\")\n",
    "        break"
   ]
  },
  {
   "cell_type": "code",
   "execution_count": null,
   "metadata": {
    "collapsed": true
   },
   "outputs": [],
   "source": [
    "#graphic package\n",
    "from graphics.rectangle import *\n",
    "from graphics.circle import *\n",
    "from graphics.graphic3d.cuboid import *\n",
    "from graphics.graphic3d.sphere import *\n",
    "while(1):\n",
    "    print(\"\\n1.RECTANGLE\\n2.CIRCLE\\n3.SPHERE\\n4.CUBOID\\n5.EXIT\")\n",
    "    h=int(input(\"enter any option:\"))\n",
    "    if ch==1:\n",
    "        l=int(input(\"enter length:\"))\n",
    "        b=int(input(\"enter breadth\"))\n",
    "        area=area=rectarea(l,b)\n",
    "        print(\"area of rectangle:\",area)\n",
    "        perimeter=rectperi(l,b)\n",
    "        print(\"perimeter of rectangle:\",perimeter)\n",
    "    elif ch==2:\n",
    "        r=int(input(\"enter the radius of the circle:\"))\n",
    "        carea=circlearea(r)\n",
    "        print(\"area of a circle:\",carea)\n",
    "        cperimeter=circleperi(r)\n",
    "        print(\"perimeter of a circle:\",cperimeter)\n",
    "    elif ch==3:\n",
    "        rad=int(input(\"enter the radius\"))\n",
    "        spharea=sparea(rad)\n",
    "        print(\"area of the sphere:\",spharea)\n",
    "        sphcircum=spcircumference(rad)\n",
    "        print(\"circumference of a sphere:\",sphcircum)\n",
    "    elif ch==4:\n",
    "        l=int(input(\"enter the length:\"))\n",
    "        b=int(input(\"enter the breadth:\"))\n",
    "        h=int(input(\"enter the height:\"))\n",
    "        cubap=cubberi(l,b,h)\n",
    "        print(\"perimeter of cuboid\",cubp)\n",
    "    else:\n",
    "        print(\"EXITING...\")\n",
    "        break\n",
    "        \n",
    "    "
   ]
  }
 ],
 "metadata": {
  "kernelspec": {
   "display_name": "Python 3",
   "language": "python",
   "name": "python3"
  },
  "language_info": {
   "codemirror_mode": {
    "name": "ipython",
    "version": 3
   },
   "file_extension": ".py",
   "mimetype": "text/x-python",
   "name": "python",
   "nbconvert_exporter": "python",
   "pygments_lexer": "ipython3",
   "version": "3.6.3"
  }
 },
 "nbformat": 4,
 "nbformat_minor": 2
}
