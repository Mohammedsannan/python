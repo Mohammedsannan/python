{
 "cells": [
  {
   "cell_type": "code",
   "execution_count": 6,
   "metadata": {},
   "outputs": [
    {
     "name": "stdout",
     "output_type": "stream",
     "text": [
      "enter the side of the square:3\n",
      "the area of the square is: 9\n"
     ]
    }
   ],
   "source": [
    "#python programe to compute the area of a square\n",
    "s=int(input(\"enter the side of the square:\"))\n",
    "sq=s*s\n",
    "print(\"the area of the square is:\",sq)"
   ]
  },
  {
   "cell_type": "code",
   "execution_count": 7,
   "metadata": {
    "scrolled": true
   },
   "outputs": [
    {
     "name": "stdout",
     "output_type": "stream",
     "text": [
      "enter the base of right angled triangle:4\n",
      "enter the height of right angled triangle:5\n",
      "the area of right angled triangle is: 10.0\n"
     ]
    }
   ],
   "source": [
    "#python programe to compute the area of the right angle triangle\n",
    "b=int(input(\"enter the base of right angled triangle:\"))\n",
    "h=int(input(\"enter the height of right angled triangle:\"))\n",
    "area=0.5*b*h\n",
    "print(\"the area of right angled triangle is:\",area)\n"
   ]
  },
  {
   "cell_type": "code",
   "execution_count": 8,
   "metadata": {},
   "outputs": [
    {
     "name": "stdout",
     "output_type": "stream",
     "text": [
      "enter the username:sanan\n",
      "hello,sanan!\n"
     ]
    }
   ],
   "source": [
    "#greets the user\n",
    "name=input(\"enter the username:\")\n",
    "print(\"hello,\"+name+\"!\")"
   ]
  },
  {
   "cell_type": "code",
   "execution_count": 16,
   "metadata": {},
   "outputs": [
    {
     "name": "stdout",
     "output_type": "stream",
     "text": [
      "enter the no.7\n",
      "previous no. is : 6\n",
      "next no is : 8\n"
     ]
    }
   ],
   "source": [
    "#read on integer no. and print previous and next no.\n",
    "n=int(input(\"enter the no.\"))\n",
    "prev=n-1\n",
    "next=n+1\n",
    "print(\"previous no. is :\",prev)\n",
    "print(\"next no is :\",next)\n"
   ]
  },
  {
   "cell_type": "code",
   "execution_count": 3,
   "metadata": {},
   "outputs": [
    {
     "name": "stdout",
     "output_type": "stream",
     "text": [
      "enter the principal amount :2000\n",
      "enter the rate of intrest :500\n",
      "enter the time of period :3\n",
      "simple intrest is : 30000.0\n"
     ]
    }
   ],
   "source": [
    "#computing simple intrest\n",
    "p=int(input(\"enter the principal amount :\"))\n",
    "r=int(input(\"enter the rate of intrest :\"))\n",
    "t=int(input(\"enter the time of period :\"))\n",
    "SI=(p*r*t)/100\n",
    "print(\"simple intrest is :\",SI)"
   ]
  },
  {
   "cell_type": "code",
   "execution_count": null,
   "metadata": {
    "collapsed": true
   },
   "outputs": [],
   "source": []
  }
 ],
 "metadata": {
  "kernelspec": {
   "display_name": "Python 3",
   "language": "python",
   "name": "python3"
  },
  "language_info": {
   "codemirror_mode": {
    "name": "ipython",
    "version": 3
   },
   "file_extension": ".py",
   "mimetype": "text/x-python",
   "name": "python",
   "nbconvert_exporter": "python",
   "pygments_lexer": "ipython3",
   "version": "3.6.3"
  }
 },
 "nbformat": 4,
 "nbformat_minor": 2
}
