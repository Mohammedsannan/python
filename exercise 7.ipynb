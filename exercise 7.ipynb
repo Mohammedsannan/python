{
 "cells": [
  {
   "cell_type": "code",
   "execution_count": 3,
   "metadata": {},
   "outputs": [
    {
     "name": "stdout",
     "output_type": "stream",
     "text": [
      "enter some coma seperated integers:1,11,111,1111\n",
      "the required list is: [1, 11, 'over', 'over']\n"
     ]
    }
   ],
   "source": [
    "#exeeding 100 integer to \"over\"\n",
    "l=list(map(int,input(\"enter some coma seperated integers:\").split(\",\")))\n",
    "for i in range(len(l)):\n",
    "    if l[i]>100:\n",
    "        l[i]=\"over\"\n",
    "print(\"the required list is:\",l)"
   ]
  },
  {
   "cell_type": "code",
   "execution_count": 5,
   "metadata": {},
   "outputs": [
    {
     "name": "stdout",
     "output_type": "stream",
     "text": [
      "enter soma coma seperated first names:sanan,anand,jithu,junaid\n",
      "number of occurences of a in sanan is:  2\n",
      "number of occurences of a in anand is:  2\n",
      "number of occurences of a in jithu is:  0\n",
      "number of occurences of a in junaid is:  1\n",
      "total number of occurence of a in list is: 5\n"
     ]
    }
   ],
   "source": [
    "#numbers of occurences of a in list of first names\n",
    "name=input(\"enter some coma seperated first names:\")\n",
    "l=name.split(\",\")\n",
    "t=0\n",
    "for i in l:\n",
    "    print(\"number of occurences of a in\",i,\"is: \",i.count(\"a\"))\n",
    "    t=t+i.count(\"a\")\n",
    "print(\"total number of occurence of a in list is:\",t)    "
   ]
  },
  {
   "cell_type": "code",
   "execution_count": 6,
   "metadata": {},
   "outputs": [
    {
     "name": "stdout",
     "output_type": "stream",
     "text": [
      "enter some coma seperated integers for list1:1,2,3\n",
      "enter some coma seperated integers for list2:1,2,3\n",
      "both the lists have same length and the length is:  3\n",
      "both the lists have same sum and the sum is:  6\n",
      "same members are: [1, 2, 3]\n"
     ]
    }
   ],
   "source": [
    "#some list operation\n",
    "l1=list(map(int,input(\"enter some coma seperated integers for list1:\").split(\",\")))\n",
    "l2=list(map(int,input(\"enter some coma seperated integers for list2:\").split(\",\")))\n",
    "if len(l1)!=len(l2):\n",
    "    print(\"the entered lists are different size\")\n",
    "else:\n",
    "    print(\"both the lists have same length and the lengteh is: \",len(l1))\n",
    "if(sum(l1)==sum(l2)):\n",
    "    print(\"both the lists have same sum and the sum is: \",sum(l1))\n",
    "else:\n",
    "    print(\"both the list have different sum of elements...\")\n",
    "    \n",
    "k=[i for i in l1 if i in l2]\n",
    "if len(k)!=0:\n",
    "    print(\"same members are:\",k)\n",
    "else:\n",
    "    print(\"nothing commom in both lists...\")"
   ]
  },
  {
   "cell_type": "code",
   "execution_count": 9,
   "metadata": {},
   "outputs": [
    {
     "name": "stdout",
     "output_type": "stream",
     "text": [
      "enter some coma seperated integers: -1,-2,-3,-4,1,2,3,4\n",
      "the required list of odd elements:  [-1, -3, 1, 3]\n"
     ]
    }
   ],
   "source": [
    "#seperating odd integers from list of integers\n",
    "l=list(map(int,input(\"enter some coma seperated integers: \").split(\",\")))\n",
    "r=[x for x in l if (x%2!=0)]\n",
    "print(\"the required list of odd elements: \",r)"
   ]
  },
  {
   "cell_type": "code",
   "execution_count": 10,
   "metadata": {},
   "outputs": [
    {
     "name": "stdout",
     "output_type": "stream",
     "text": [
      "enter any word:sanan\n",
      "['s', 'a', 'n', 'a', 'n']\n",
      "the required list of ordinal values of characters of entered word is:  [115, 97, 110, 97, 110]\n"
     ]
    }
   ],
   "source": [
    "#dordinal values of characters of a word\n",
    "word=input(\"enter any word:\")\n",
    "l=list(word)\n",
    "print(l)\n",
    "o=[ord(x)for x in l]\n",
    "print(\"the required list of ordinal values of characters of entered word is: \",o)"
   ]
  },
  {
   "cell_type": "code",
   "execution_count": 13,
   "metadata": {},
   "outputs": [
    {
     "name": "stdout",
     "output_type": "stream",
     "text": [
      "enter some coma seperated list of integers:-1,-22,1,2\n",
      "the list of positive values is: [1, 2]\n"
     ]
    }
   ],
   "source": [
    "#positive list of numbers from a given list of integers\n",
    "l=list(map(int,input(\"enter some coma seperated list of integers:\").split(\",\")))\n",
    "rest=[x for x in l if x>0]\n",
    "print(\"the list of positive values is:\",rest)"
   ]
  },
  {
   "cell_type": "code",
   "execution_count": 14,
   "metadata": {},
   "outputs": [
    {
     "name": "stdout",
     "output_type": "stream",
     "text": [
      "enter some coma seperated list of integers:1,2,3,4\n",
      "the result list of squares:  [1, 4, 9, 16]\n"
     ]
    }
   ],
   "source": [
    "#square of n numbers\n",
    "l=list(map(int,input(\"enter some coma seperated list of integers:\").split(\",\")))\n",
    "rest=[x*x for x in l]\n",
    "print(\"the result list of squares: \",rest)"
   ]
  },
  {
   "cell_type": "code",
   "execution_count": 2,
   "metadata": {},
   "outputs": [
    {
     "name": "stdout",
     "output_type": "stream",
     "text": [
      "enter a word:sanan\n",
      "list of vowels in the word sanan is: ['a']\n"
     ]
    }
   ],
   "source": [
    "#vowels of given word\n",
    "word=input(\"enter a word:\")\n",
    "vowels=['a','e','i','o','u','A','E','I','O','U']\n",
    "list=[]\n",
    "for x in word:\n",
    "    if (x in vowels and x not in list):\n",
    "        list.append(x)\n",
    "        \n",
    "        \n",
    "print(\"list of vowels in the word\",word,\"is:\",list)\n"
   ]
  },
  {
   "cell_type": "code",
   "execution_count": 18,
   "metadata": {},
   "outputs": [
    {
     "name": "stdout",
     "output_type": "stream",
     "text": [
      "enter the number of element:3\n",
      "enter key:2\n",
      "enter value:200\n",
      "enter key:1\n",
      "enter value:100\n",
      "enter key:3\n",
      "enter value:300\n",
      "the dictionary values in ascending order: ['100', '200', '300']\n",
      "the dictionary values in descending order: ['300', '200', '100']\n"
     ]
    }
   ],
   "source": [
    "#to sort a dictionary\n",
    "d={}\n",
    "l=[]\n",
    "n=int(input(\"enter the number of element:\"))\n",
    "for i in range(n):\n",
    "    key=input(\"enter key:\")\n",
    "    value=input(\"enter value:\")\n",
    "    d.update({key:value})\n",
    "l=sorted(d.values())\n",
    "l2=sorted(d.values(),reverse=True)\n",
    "\n",
    "print(\"the dictionary values in ascending order:\",l[0:])\n",
    "print(\"the dictionary values in descending order:\",l2)"
   ]
  },
  {
   "cell_type": "code",
   "execution_count": 20,
   "metadata": {},
   "outputs": [
    {
     "name": "stdout",
     "output_type": "stream",
     "text": [
      "enter the numberts of elements of dictionary 1:3\n",
      "enter key:1\n",
      "enter value:100\n",
      "enter key:2\n",
      "enter value:200\n",
      "enter key:3\n",
      "enter value:300\n",
      "dictionary1: {'1': '100', '2': '200', '3': '300'}\n",
      "enter the number of elements of dictionary 2:2\n",
      "enter key:4\n",
      "enter value:400\n",
      "enter key:5\n",
      "enter value:500\n",
      "dictionary 2: {'4': '400', '5': '500'}\n",
      "the merged dictionary is: {'1': '100', '2': '200', '3': '300', '4': '400', '5': '500'}\n"
     ]
    }
   ],
   "source": [
    "#to merge the two dictionaries\n",
    "d1={}\n",
    "d2={}\n",
    "d3={}\n",
    "n1=int(input(\"enter the numberts of elements of dictionary 1:\"))\n",
    "for i in range(n1):\n",
    "    key=input(\"enter key:\")\n",
    "    value=input(\"enter value:\")\n",
    "    d1.update({key:value})\n",
    "print(\"dictionary1:\",d1)\n",
    "    \n",
    "n2=int(input(\"enter the number of elements of dictionary 2:\"))\n",
    "for i in range(n2):\n",
    "    k=input(\"enter key:\")\n",
    "    v=input(\"enter value:\")\n",
    "    d2.update({k:v})\n",
    "print(\"dictionary 2:\",d2)\n",
    "    \n",
    "d3.update(d1)\n",
    "d3.update(d2)\n",
    "\n",
    "print(\"the merged dictionary is:\",d3)"
   ]
  },
  {
   "cell_type": "code",
   "execution_count": null,
   "metadata": {
    "collapsed": true
   },
   "outputs": [],
   "source": []
  }
 ],
 "metadata": {
  "kernelspec": {
   "display_name": "Python 3",
   "language": "python",
   "name": "python3"
  },
  "language_info": {
   "codemirror_mode": {
    "name": "ipython",
    "version": 3
   },
   "file_extension": ".py",
   "mimetype": "text/x-python",
   "name": "python",
   "nbconvert_exporter": "python",
   "pygments_lexer": "ipython3",
   "version": "3.6.3"
  }
 },
 "nbformat": 4,
 "nbformat_minor": 2
}
