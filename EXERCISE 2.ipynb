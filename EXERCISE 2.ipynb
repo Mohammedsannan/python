{
 "cells": [
  {
   "cell_type": "code",
   "execution_count": 3,
   "metadata": {},
   "outputs": [
    {
     "name": "stdout",
     "output_type": "stream",
     "text": [
      "enter the radius of the circle :5\n",
      "area of the circle is : 78.53981633974483\n"
     ]
    }
   ],
   "source": [
    "#compute area of circle (import math)\n",
    "import math\n",
    "r=int(input(\"enter the radius of the circle :\"))\n",
    "area=math.pi*r*r\n",
    "print(\"area of the circle is :\",area)\n"
   ]
  },
  {
   "cell_type": "code",
   "execution_count": 2,
   "metadata": {},
   "outputs": [
    {
     "name": "stdout",
     "output_type": "stream",
     "text": [
      "enter the number :5\n",
      "sum is : 615\n"
     ]
    }
   ],
   "source": [
    "#accepts an integer (n) and computes the value of n+nn+nnn\n",
    "n=int(input (\"enter the number :\"))\n",
    "s=n+((n*10)+n)+(((n*100)+(10*n)+n))\n",
    "print(\"sum is :\",s)"
   ]
  },
  {
   "cell_type": "code",
   "execution_count": null,
   "metadata": {
    "collapsed": true
   },
   "outputs": [],
   "source": []
  }
 ],
 "metadata": {
  "kernelspec": {
   "display_name": "Python 3",
   "language": "python",
   "name": "python3"
  },
  "language_info": {
   "codemirror_mode": {
    "name": "ipython",
    "version": 3
   },
   "file_extension": ".py",
   "mimetype": "text/x-python",
   "name": "python",
   "nbconvert_exporter": "python",
   "pygments_lexer": "ipython3",
   "version": "3.6.3"
  }
 },
 "nbformat": 4,
 "nbformat_minor": 2
}
