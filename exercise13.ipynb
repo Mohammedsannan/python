{
 "cells": [
  {
   "cell_type": "code",
   "execution_count": 3,
   "metadata": {},
   "outputs": [
    {
     "name": "stdout",
     "output_type": "stream",
     "text": [
      "first number:1\n",
      "second number:0\n",
      "Division by Zero Error occured\n"
     ]
    }
   ],
   "source": [
    "#write a program to handle zeroDivisorError,which \n",
    "try:\n",
    "    a=int(input(\"first number:\"))\n",
    "    b=int(input(\"second number:\"))\n",
    "    result=a/b\n",
    "    print(\"Result=\",result)\n",
    "except ZeroDivisionError:\n",
    "    print(\"Division by Zero Error occured\")"
   ]
  },
  {
   "cell_type": "code",
   "execution_count": 5,
   "metadata": {},
   "outputs": [
    {
     "name": "stdout",
     "output_type": "stream",
     "text": [
      "first number:3\n",
      "second number:2\n",
      "Result= 1.5\n"
     ]
    }
   ],
   "source": [
    "#write a program to handle ZerodivisorError,value error which\n",
    "try:\n",
    "    a=int(input(\"first number:\"))\n",
    "    b=int(input(\"second number:\"))\n",
    "    result=a/b\n",
    "    print(\"Result=\",result)\n",
    "except (ZeroDivisionError,valueError):\n",
    "    print(\"Error occured\")\n",
    "        "
   ]
  },
  {
   "cell_type": "code",
   "execution_count": 11,
   "metadata": {},
   "outputs": [
    {
     "name": "stdout",
     "output_type": "stream",
     "text": [
      "enter a number:444\n",
      "value is too large\n",
      "enter a number:6\n",
      "value is too small\n",
      "enter a number:10\n",
      "the guessed it right\n"
     ]
    }
   ],
   "source": [
    "\n",
    "class Error(Exception):\n",
    "    'Base class for other exceptions'\n",
    "    pass\n",
    "class ValueTooSmallError(Error):\n",
    "    pass\n",
    "class ValueTooLargeError(Error):\n",
    "    pass\n",
    "num=10\n",
    "while True:\n",
    "    try:\n",
    "        in_num=int(input(\"enter a number:\"))\n",
    "        if in_num<num:\n",
    "            raise ValueTooSmallError\n",
    "        elif in_num>num:\n",
    "            raise ValueTooLargeError\n",
    "        break\n",
    "    except ValueTooSmallError:\n",
    "        print(\"value is too small\")\n",
    "    except ValueTooLargeError:\n",
    "        print(\"value is too large\")\n",
    "print(\"the guessed it right\")"
   ]
  },
  {
   "cell_type": "code",
   "execution_count": 12,
   "metadata": {},
   "outputs": [
    {
     "name": "stdout",
     "output_type": "stream",
     "text": [
      "x should be 'hello'\n"
     ]
    }
   ],
   "source": [
    "x=\"hello\"\n",
    "\n",
    "\n",
    "try:\n",
    "    \n",
    "    \n",
    "    assert x== \"goodbye\", \"x should be 'hello'\"\n",
    "\n",
    "except AssertionError as args:\n",
    "    print(args)"
   ]
  },
  {
   "cell_type": "code",
   "execution_count": null,
   "metadata": {
    "collapsed": true
   },
   "outputs": [],
   "source": []
  }
 ],
 "metadata": {
  "kernelspec": {
   "display_name": "Python 3",
   "language": "python",
   "name": "python3"
  },
  "language_info": {
   "codemirror_mode": {
    "name": "ipython",
    "version": 3
   },
   "file_extension": ".py",
   "mimetype": "text/x-python",
   "name": "python",
   "nbconvert_exporter": "python",
   "pygments_lexer": "ipython3",
   "version": "3.6.3"
  }
 },
 "nbformat": 4,
 "nbformat_minor": 2
}
