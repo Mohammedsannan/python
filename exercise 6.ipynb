{
 "cells": [
  {
   "cell_type": "code",
   "execution_count": 16,
   "metadata": {},
   "outputs": [
    {
     "name": "stdout",
     "output_type": "stream",
     "text": [
      "enter any non negative number:6\n",
      "factorial of number  6  is:  720\n"
     ]
    }
   ],
   "source": [
    "#factorial of given number\n",
    "num=int(input(\"enter any non negative number:\"))\n",
    "if num==0:\n",
    "    print(\"you entered zero and factorial of zero is one...\")\n",
    "else:\n",
    "    temp=num\n",
    "    f=1\n",
    "    while temp>0:\n",
    "        f=f*temp\n",
    "        temp=temp-1\n",
    "    print(\"factorial of number \",num,\" is: \",f)\n",
    "        "
   ]
  },
  {
   "cell_type": "code",
   "execution_count": 17,
   "metadata": {},
   "outputs": [
    {
     "name": "stdout",
     "output_type": "stream",
     "text": [
      "enter the limit of fibonaci series: 5\n",
      "fibonaci series upto  5 terms are : \n",
      "0   1   1   2   3   "
     ]
    }
   ],
   "source": [
    "#fibonnaci series upto a limit\n",
    "n=int(input(\"enter the limit of fibonaci series: \"))\n",
    "a=c=d=0\n",
    "b=1\n",
    "print(\"fibonaci series upto \",n,\"terms are : \")\n",
    "while d<=n-1:\n",
    "    print(c,\" \",end=\" \")\n",
    "    a=b\n",
    "    b=c\n",
    "    c=a+b\n",
    "    d=d+1"
   ]
  },
  {
   "cell_type": "code",
   "execution_count": 5,
   "metadata": {},
   "outputs": [
    {
     "name": "stdout",
     "output_type": "stream",
     "text": [
      "enter first number:24\n",
      "enter the second number:18\n",
      "the greatest common divisor of  24 and 18 is: 6\n"
     ]
    }
   ],
   "source": [
    "#greatest common divisors of 2 numbers\n",
    "num1=int(input(\"enter first number:\"))\n",
    "num2=int(input(\"enter the second number:\"))\n",
    "if num1<num2:\n",
    "    m=num1\n",
    "else:\n",
    "    m=num2\n",
    "while m>0:\n",
    "    if (num1%m==0) and (num2%m==0):\n",
    "        print(\"the greatest common divisor of \",num1,\"and\",num2,\"is:\",m)\n",
    "        break\n",
    "    m=m-1"
   ]
  },
  {
   "cell_type": "code",
   "execution_count": 15,
   "metadata": {},
   "outputs": [
    {
     "name": "stdout",
     "output_type": "stream",
     "text": [
      "enter some comma seperated numbers: 1,2,3,4,5\n",
      "sum of the elements of the list  ['1', '2', '3', '4', '5']  is:  15\n"
     ]
    }
   ],
   "source": [
    "#sum of elements of a list\n",
    "str=input(\"enter some comma seperated numbers: \")\n",
    "l=str.split(\",\")\n",
    "s=i=0\n",
    "for i in l:\n",
    "    s=s+int(i)\n",
    "print(\"sum of the elements of the list \",l,\" is: \",s)"
   ]
  },
  {
   "cell_type": "code",
   "execution_count": 33,
   "metadata": {},
   "outputs": [
    {
     "name": "stdout",
     "output_type": "stream",
     "text": [
      "enter a number:4\n",
      "the required pyramid is :\n",
      "1 \n",
      "\n",
      "2 4 \n",
      "\n",
      "3 6 9 \n",
      "\n",
      "4 8 12 16 \n",
      "\n"
     ]
    }
   ],
   "source": [
    "#pyramid of multiples\n",
    "n=int(input(\"enter a number:\"))\n",
    "print(\"the required pyramid is :\")\n",
    "\n",
    "for i in range(1,n+1):\n",
    "        \n",
    "    for j in range(1,i+1):\n",
    "        print(i*j,end=\" \")\n",
    "    print(\"\\n\")"
   ]
  },
  {
   "cell_type": "code",
   "execution_count": 11,
   "metadata": {},
   "outputs": [
    {
     "name": "stdout",
     "output_type": "stream",
     "text": [
      "enter a string:malayalam\n",
      "frequency of the character m is: 2\n",
      "frequency of the character a is: 4\n",
      "frequency of the character l is: 2\n",
      "frequency of the character y is: 1\n"
     ]
    }
   ],
   "source": [
    "#frequency of characters of a string\n",
    "n=input(\"enter a string:\")\n",
    "l=list(n)\n",
    "s=[]\n",
    "[s.append(x)for x in l if x not in s]\n",
    "for i in s:\n",
    "    m=l.count(i)\n",
    "    print(\"frequency of the character\",i,\"is:\",m)"
   ]
  },
  {
   "cell_type": "code",
   "execution_count": 14,
   "metadata": {},
   "outputs": [
    {
     "name": "stdout",
     "output_type": "stream",
     "text": [
      "enter a number:16\n",
      "the factors of the given numbers 16 are:\n",
      "16  8  4  2  1  "
     ]
    }
   ],
   "source": [
    "#factors of a given numbers\n",
    "num=int(input(\"enter a number:\"))\n",
    "i=num\n",
    "print(\"the factors of the given numbers\",num,\"are:\")\n",
    "while i>0:\n",
    "    if(num%i==0):\n",
    "        print(i,\" \",end=\"\")\n",
    "    i=i-1"
   ]
  },
  {
   "cell_type": "code",
   "execution_count": 15,
   "metadata": {},
   "outputs": [
    {
     "name": "stdout",
     "output_type": "stream",
     "text": [
      "* \n",
      "\n",
      "* * \n",
      "\n",
      "* * * \n",
      "\n",
      "* * * * \n",
      "\n",
      "* * * * * \n",
      "\n",
      "* * * * \n",
      "\n",
      "* * * \n",
      "\n",
      "* * \n",
      "\n",
      "* \n",
      "\n"
     ]
    }
   ],
   "source": [
    "#python program for star pattern\n",
    "for i in range(0,4):\n",
    "    for j in range(0,i + 1):\n",
    "        print(\"* \", end=\"\")\n",
    "    print(\"\\n\")\n",
    "for i in range(4,-1,-1):\n",
    "    for j in range(0,i+1):\n",
    "        print(\"* \", end=\"\")\n",
    "    print(\"\\n\")    "
   ]
  },
  {
   "cell_type": "code",
   "execution_count": null,
   "metadata": {
    "collapsed": true
   },
   "outputs": [],
   "source": []
  }
 ],
 "metadata": {
  "kernelspec": {
   "display_name": "Python 3",
   "language": "python",
   "name": "python3"
  },
  "language_info": {
   "codemirror_mode": {
    "name": "ipython",
    "version": 3
   },
   "file_extension": ".py",
   "mimetype": "text/x-python",
   "name": "python",
   "nbconvert_exporter": "python",
   "pygments_lexer": "ipython3",
   "version": "3.6.3"
  }
 },
 "nbformat": 4,
 "nbformat_minor": 2
}
